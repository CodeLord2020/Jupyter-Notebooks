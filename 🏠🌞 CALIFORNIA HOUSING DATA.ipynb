{
 "cells": [
  {
   "cell_type": "code",
   "execution_count": 41,
   "id": "13826a59",
   "metadata": {},
   "outputs": [],
   "source": [
    "import pandas as pd\n",
    "import numpy as np\n",
    "import matplotlib.pyplot as plt\n",
    "import seaborn as sns\n",
    "\n",
    "from sklearn.model_selection import train_test_split\n",
    "from warnings import filterwarnings\n",
    "filterwarnings(action ='ignore')"
   ]
  },
  {
   "cell_type": "markdown",
   "id": "e07baea8",
   "metadata": {
    "raw_mimetype": "text/markdown"
   },
   "source": [
    "# Exploratory Data Analysis\n",
    "\n",
    "Data Collection"
   ]
  },
  {
   "cell_type": "code",
   "execution_count": 42,
   "id": "fe6c385a",
   "metadata": {},
   "outputs": [],
   "source": [
    "test = pd.read_csv('Carlifonia Data\\\\test.csv')\n",
    "train = pd.read_csv('Carlifonia Data\\\\train.csv')"
   ]
  },
  {
   "cell_type": "code",
   "execution_count": 43,
   "id": "c879fdd9",
   "metadata": {},
   "outputs": [
    {
     "data": {
      "text/html": [
       "<div>\n",
       "<style scoped>\n",
       "    .dataframe tbody tr th:only-of-type {\n",
       "        vertical-align: middle;\n",
       "    }\n",
       "\n",
       "    .dataframe tbody tr th {\n",
       "        vertical-align: top;\n",
       "    }\n",
       "\n",
       "    .dataframe thead th {\n",
       "        text-align: right;\n",
       "    }\n",
       "</style>\n",
       "<table border=\"1\" class=\"dataframe\">\n",
       "  <thead>\n",
       "    <tr style=\"text-align: right;\">\n",
       "      <th></th>\n",
       "      <th>id</th>\n",
       "      <th>MedInc</th>\n",
       "      <th>HouseAge</th>\n",
       "      <th>AveRooms</th>\n",
       "      <th>AveBedrms</th>\n",
       "      <th>Population</th>\n",
       "      <th>AveOccup</th>\n",
       "      <th>Latitude</th>\n",
       "      <th>Longitude</th>\n",
       "      <th>MedHouseVal</th>\n",
       "    </tr>\n",
       "  </thead>\n",
       "  <tbody>\n",
       "    <tr>\n",
       "      <th>0</th>\n",
       "      <td>0</td>\n",
       "      <td>2.3859</td>\n",
       "      <td>15.0</td>\n",
       "      <td>3.827160</td>\n",
       "      <td>1.112100</td>\n",
       "      <td>1280.0</td>\n",
       "      <td>2.486989</td>\n",
       "      <td>34.60</td>\n",
       "      <td>-120.12</td>\n",
       "      <td>0.980</td>\n",
       "    </tr>\n",
       "    <tr>\n",
       "      <th>1</th>\n",
       "      <td>1</td>\n",
       "      <td>3.7188</td>\n",
       "      <td>17.0</td>\n",
       "      <td>6.013373</td>\n",
       "      <td>1.054217</td>\n",
       "      <td>1504.0</td>\n",
       "      <td>3.813084</td>\n",
       "      <td>38.69</td>\n",
       "      <td>-121.22</td>\n",
       "      <td>0.946</td>\n",
       "    </tr>\n",
       "    <tr>\n",
       "      <th>2</th>\n",
       "      <td>2</td>\n",
       "      <td>4.7750</td>\n",
       "      <td>27.0</td>\n",
       "      <td>6.535604</td>\n",
       "      <td>1.103175</td>\n",
       "      <td>1061.0</td>\n",
       "      <td>2.464602</td>\n",
       "      <td>34.71</td>\n",
       "      <td>-120.45</td>\n",
       "      <td>1.576</td>\n",
       "    </tr>\n",
       "    <tr>\n",
       "      <th>3</th>\n",
       "      <td>3</td>\n",
       "      <td>2.4138</td>\n",
       "      <td>16.0</td>\n",
       "      <td>3.350203</td>\n",
       "      <td>0.965432</td>\n",
       "      <td>1255.0</td>\n",
       "      <td>2.089286</td>\n",
       "      <td>32.66</td>\n",
       "      <td>-117.09</td>\n",
       "      <td>1.336</td>\n",
       "    </tr>\n",
       "    <tr>\n",
       "      <th>4</th>\n",
       "      <td>4</td>\n",
       "      <td>3.7500</td>\n",
       "      <td>52.0</td>\n",
       "      <td>4.284404</td>\n",
       "      <td>1.069246</td>\n",
       "      <td>1793.0</td>\n",
       "      <td>1.604790</td>\n",
       "      <td>37.80</td>\n",
       "      <td>-122.41</td>\n",
       "      <td>4.500</td>\n",
       "    </tr>\n",
       "    <tr>\n",
       "      <th>5</th>\n",
       "      <td>5</td>\n",
       "      <td>6.8075</td>\n",
       "      <td>26.0</td>\n",
       "      <td>6.764372</td>\n",
       "      <td>1.091787</td>\n",
       "      <td>2147.0</td>\n",
       "      <td>2.703540</td>\n",
       "      <td>33.84</td>\n",
       "      <td>-118.31</td>\n",
       "      <td>3.714</td>\n",
       "    </tr>\n",
       "    <tr>\n",
       "      <th>6</th>\n",
       "      <td>6</td>\n",
       "      <td>2.3654</td>\n",
       "      <td>21.0</td>\n",
       "      <td>4.734884</td>\n",
       "      <td>1.011396</td>\n",
       "      <td>1112.0</td>\n",
       "      <td>2.937247</td>\n",
       "      <td>35.65</td>\n",
       "      <td>-117.64</td>\n",
       "      <td>0.811</td>\n",
       "    </tr>\n",
       "    <tr>\n",
       "      <th>7</th>\n",
       "      <td>7</td>\n",
       "      <td>2.3562</td>\n",
       "      <td>31.0</td>\n",
       "      <td>5.186567</td>\n",
       "      <td>1.154229</td>\n",
       "      <td>1346.0</td>\n",
       "      <td>3.348259</td>\n",
       "      <td>32.68</td>\n",
       "      <td>-117.07</td>\n",
       "      <td>0.824</td>\n",
       "    </tr>\n",
       "    <tr>\n",
       "      <th>8</th>\n",
       "      <td>8</td>\n",
       "      <td>2.2672</td>\n",
       "      <td>23.0</td>\n",
       "      <td>4.640155</td>\n",
       "      <td>1.064302</td>\n",
       "      <td>628.0</td>\n",
       "      <td>1.774461</td>\n",
       "      <td>38.53</td>\n",
       "      <td>-121.43</td>\n",
       "      <td>0.995</td>\n",
       "    </tr>\n",
       "    <tr>\n",
       "      <th>9</th>\n",
       "      <td>9</td>\n",
       "      <td>5.6370</td>\n",
       "      <td>20.0</td>\n",
       "      <td>4.391863</td>\n",
       "      <td>1.053312</td>\n",
       "      <td>1634.0</td>\n",
       "      <td>2.681388</td>\n",
       "      <td>33.88</td>\n",
       "      <td>-118.36</td>\n",
       "      <td>2.291</td>\n",
       "    </tr>\n",
       "  </tbody>\n",
       "</table>\n",
       "</div>"
      ],
      "text/plain": [
       "   id  MedInc  HouseAge  AveRooms  AveBedrms  Population  AveOccup  Latitude  \\\n",
       "0   0  2.3859      15.0  3.827160   1.112100      1280.0  2.486989     34.60   \n",
       "1   1  3.7188      17.0  6.013373   1.054217      1504.0  3.813084     38.69   \n",
       "2   2  4.7750      27.0  6.535604   1.103175      1061.0  2.464602     34.71   \n",
       "3   3  2.4138      16.0  3.350203   0.965432      1255.0  2.089286     32.66   \n",
       "4   4  3.7500      52.0  4.284404   1.069246      1793.0  1.604790     37.80   \n",
       "5   5  6.8075      26.0  6.764372   1.091787      2147.0  2.703540     33.84   \n",
       "6   6  2.3654      21.0  4.734884   1.011396      1112.0  2.937247     35.65   \n",
       "7   7  2.3562      31.0  5.186567   1.154229      1346.0  3.348259     32.68   \n",
       "8   8  2.2672      23.0  4.640155   1.064302       628.0  1.774461     38.53   \n",
       "9   9  5.6370      20.0  4.391863   1.053312      1634.0  2.681388     33.88   \n",
       "\n",
       "   Longitude  MedHouseVal  \n",
       "0    -120.12        0.980  \n",
       "1    -121.22        0.946  \n",
       "2    -120.45        1.576  \n",
       "3    -117.09        1.336  \n",
       "4    -122.41        4.500  \n",
       "5    -118.31        3.714  \n",
       "6    -117.64        0.811  \n",
       "7    -117.07        0.824  \n",
       "8    -121.43        0.995  \n",
       "9    -118.36        2.291  "
      ]
     },
     "execution_count": 43,
     "metadata": {},
     "output_type": "execute_result"
    }
   ],
   "source": [
    "train.head(10)"
   ]
  },
  {
   "cell_type": "code",
   "execution_count": 44,
   "id": "9a8c0fa3",
   "metadata": {},
   "outputs": [
    {
     "data": {
      "text/html": [
       "<div>\n",
       "<style scoped>\n",
       "    .dataframe tbody tr th:only-of-type {\n",
       "        vertical-align: middle;\n",
       "    }\n",
       "\n",
       "    .dataframe tbody tr th {\n",
       "        vertical-align: top;\n",
       "    }\n",
       "\n",
       "    .dataframe thead th {\n",
       "        text-align: right;\n",
       "    }\n",
       "</style>\n",
       "<table border=\"1\" class=\"dataframe\">\n",
       "  <thead>\n",
       "    <tr style=\"text-align: right;\">\n",
       "      <th></th>\n",
       "      <th>id</th>\n",
       "      <th>MedInc</th>\n",
       "      <th>HouseAge</th>\n",
       "      <th>AveRooms</th>\n",
       "      <th>AveBedrms</th>\n",
       "      <th>Population</th>\n",
       "      <th>AveOccup</th>\n",
       "      <th>Latitude</th>\n",
       "      <th>Longitude</th>\n",
       "    </tr>\n",
       "  </thead>\n",
       "  <tbody>\n",
       "    <tr>\n",
       "      <th>0</th>\n",
       "      <td>37137</td>\n",
       "      <td>1.7062</td>\n",
       "      <td>35.0</td>\n",
       "      <td>4.966368</td>\n",
       "      <td>1.096539</td>\n",
       "      <td>1318.0</td>\n",
       "      <td>2.844411</td>\n",
       "      <td>39.75</td>\n",
       "      <td>-121.85</td>\n",
       "    </tr>\n",
       "    <tr>\n",
       "      <th>1</th>\n",
       "      <td>37138</td>\n",
       "      <td>1.3882</td>\n",
       "      <td>22.0</td>\n",
       "      <td>4.187035</td>\n",
       "      <td>1.098229</td>\n",
       "      <td>2296.0</td>\n",
       "      <td>3.180218</td>\n",
       "      <td>33.95</td>\n",
       "      <td>-118.29</td>\n",
       "    </tr>\n",
       "    <tr>\n",
       "      <th>2</th>\n",
       "      <td>37139</td>\n",
       "      <td>7.7197</td>\n",
       "      <td>21.0</td>\n",
       "      <td>7.129436</td>\n",
       "      <td>0.959276</td>\n",
       "      <td>1535.0</td>\n",
       "      <td>2.888889</td>\n",
       "      <td>33.61</td>\n",
       "      <td>-117.81</td>\n",
       "    </tr>\n",
       "    <tr>\n",
       "      <th>3</th>\n",
       "      <td>37140</td>\n",
       "      <td>4.6806</td>\n",
       "      <td>49.0</td>\n",
       "      <td>4.769697</td>\n",
       "      <td>1.048485</td>\n",
       "      <td>707.0</td>\n",
       "      <td>1.743590</td>\n",
       "      <td>34.17</td>\n",
       "      <td>-118.34</td>\n",
       "    </tr>\n",
       "    <tr>\n",
       "      <th>4</th>\n",
       "      <td>37141</td>\n",
       "      <td>3.1284</td>\n",
       "      <td>25.0</td>\n",
       "      <td>3.765306</td>\n",
       "      <td>1.081633</td>\n",
       "      <td>4716.0</td>\n",
       "      <td>2.003827</td>\n",
       "      <td>34.17</td>\n",
       "      <td>-118.29</td>\n",
       "    </tr>\n",
       "    <tr>\n",
       "      <th>5</th>\n",
       "      <td>37142</td>\n",
       "      <td>5.7268</td>\n",
       "      <td>23.0</td>\n",
       "      <td>6.062500</td>\n",
       "      <td>1.145270</td>\n",
       "      <td>1039.0</td>\n",
       "      <td>2.387097</td>\n",
       "      <td>33.81</td>\n",
       "      <td>-118.11</td>\n",
       "    </tr>\n",
       "    <tr>\n",
       "      <th>6</th>\n",
       "      <td>37143</td>\n",
       "      <td>3.3583</td>\n",
       "      <td>25.0</td>\n",
       "      <td>5.068783</td>\n",
       "      <td>1.227273</td>\n",
       "      <td>949.0</td>\n",
       "      <td>3.602564</td>\n",
       "      <td>33.14</td>\n",
       "      <td>-117.12</td>\n",
       "    </tr>\n",
       "    <tr>\n",
       "      <th>7</th>\n",
       "      <td>37144</td>\n",
       "      <td>4.1302</td>\n",
       "      <td>35.0</td>\n",
       "      <td>5.944724</td>\n",
       "      <td>1.062361</td>\n",
       "      <td>1043.0</td>\n",
       "      <td>3.165919</td>\n",
       "      <td>34.09</td>\n",
       "      <td>-117.98</td>\n",
       "    </tr>\n",
       "    <tr>\n",
       "      <th>8</th>\n",
       "      <td>37145</td>\n",
       "      <td>1.7991</td>\n",
       "      <td>23.0</td>\n",
       "      <td>4.928364</td>\n",
       "      <td>1.174061</td>\n",
       "      <td>848.0</td>\n",
       "      <td>2.558011</td>\n",
       "      <td>37.30</td>\n",
       "      <td>-120.89</td>\n",
       "    </tr>\n",
       "    <tr>\n",
       "      <th>9</th>\n",
       "      <td>37146</td>\n",
       "      <td>1.7857</td>\n",
       "      <td>44.0</td>\n",
       "      <td>5.717122</td>\n",
       "      <td>1.101644</td>\n",
       "      <td>4276.0</td>\n",
       "      <td>2.373069</td>\n",
       "      <td>33.98</td>\n",
       "      <td>-117.33</td>\n",
       "    </tr>\n",
       "  </tbody>\n",
       "</table>\n",
       "</div>"
      ],
      "text/plain": [
       "      id  MedInc  HouseAge  AveRooms  AveBedrms  Population  AveOccup  \\\n",
       "0  37137  1.7062      35.0  4.966368   1.096539      1318.0  2.844411   \n",
       "1  37138  1.3882      22.0  4.187035   1.098229      2296.0  3.180218   \n",
       "2  37139  7.7197      21.0  7.129436   0.959276      1535.0  2.888889   \n",
       "3  37140  4.6806      49.0  4.769697   1.048485       707.0  1.743590   \n",
       "4  37141  3.1284      25.0  3.765306   1.081633      4716.0  2.003827   \n",
       "5  37142  5.7268      23.0  6.062500   1.145270      1039.0  2.387097   \n",
       "6  37143  3.3583      25.0  5.068783   1.227273       949.0  3.602564   \n",
       "7  37144  4.1302      35.0  5.944724   1.062361      1043.0  3.165919   \n",
       "8  37145  1.7991      23.0  4.928364   1.174061       848.0  2.558011   \n",
       "9  37146  1.7857      44.0  5.717122   1.101644      4276.0  2.373069   \n",
       "\n",
       "   Latitude  Longitude  \n",
       "0     39.75    -121.85  \n",
       "1     33.95    -118.29  \n",
       "2     33.61    -117.81  \n",
       "3     34.17    -118.34  \n",
       "4     34.17    -118.29  \n",
       "5     33.81    -118.11  \n",
       "6     33.14    -117.12  \n",
       "7     34.09    -117.98  \n",
       "8     37.30    -120.89  \n",
       "9     33.98    -117.33  "
      ]
     },
     "execution_count": 44,
     "metadata": {},
     "output_type": "execute_result"
    }
   ],
   "source": [
    "test.head(10)"
   ]
  },
  {
   "cell_type": "code",
   "execution_count": 45,
   "id": "b31446c0",
   "metadata": {},
   "outputs": [
    {
     "name": "stdout",
     "output_type": "stream",
     "text": [
      "(37137, 10) (24759, 9)\n"
     ]
    }
   ],
   "source": [
    "print(train.shape,test.shape)"
   ]
  },
  {
   "cell_type": "code",
   "execution_count": 46,
   "id": "eb856f8e",
   "metadata": {},
   "outputs": [
    {
     "data": {
      "text/html": [
       "<div>\n",
       "<style scoped>\n",
       "    .dataframe tbody tr th:only-of-type {\n",
       "        vertical-align: middle;\n",
       "    }\n",
       "\n",
       "    .dataframe tbody tr th {\n",
       "        vertical-align: top;\n",
       "    }\n",
       "\n",
       "    .dataframe thead th {\n",
       "        text-align: right;\n",
       "    }\n",
       "</style>\n",
       "<table border=\"1\" class=\"dataframe\">\n",
       "  <thead>\n",
       "    <tr style=\"text-align: right;\">\n",
       "      <th></th>\n",
       "      <th>id</th>\n",
       "      <th>MedInc</th>\n",
       "      <th>HouseAge</th>\n",
       "      <th>AveRooms</th>\n",
       "      <th>AveBedrms</th>\n",
       "      <th>Population</th>\n",
       "      <th>AveOccup</th>\n",
       "      <th>Latitude</th>\n",
       "      <th>Longitude</th>\n",
       "      <th>MedHouseVal</th>\n",
       "    </tr>\n",
       "  </thead>\n",
       "  <tbody>\n",
       "    <tr>\n",
       "      <th>count</th>\n",
       "      <td>37137.00000</td>\n",
       "      <td>37137.000000</td>\n",
       "      <td>37137.000000</td>\n",
       "      <td>37137.000000</td>\n",
       "      <td>37137.000000</td>\n",
       "      <td>37137.000000</td>\n",
       "      <td>37137.000000</td>\n",
       "      <td>37137.000000</td>\n",
       "      <td>37137.000000</td>\n",
       "      <td>37137.000000</td>\n",
       "    </tr>\n",
       "    <tr>\n",
       "      <th>mean</th>\n",
       "      <td>18568.00000</td>\n",
       "      <td>3.851029</td>\n",
       "      <td>26.057005</td>\n",
       "      <td>5.163124</td>\n",
       "      <td>1.062204</td>\n",
       "      <td>1660.778919</td>\n",
       "      <td>2.831243</td>\n",
       "      <td>35.570030</td>\n",
       "      <td>-119.554329</td>\n",
       "      <td>2.079751</td>\n",
       "    </tr>\n",
       "    <tr>\n",
       "      <th>std</th>\n",
       "      <td>10720.67281</td>\n",
       "      <td>1.803167</td>\n",
       "      <td>12.158221</td>\n",
       "      <td>1.206242</td>\n",
       "      <td>0.096490</td>\n",
       "      <td>1302.469608</td>\n",
       "      <td>2.702413</td>\n",
       "      <td>2.083179</td>\n",
       "      <td>1.974028</td>\n",
       "      <td>1.158571</td>\n",
       "    </tr>\n",
       "    <tr>\n",
       "      <th>min</th>\n",
       "      <td>0.00000</td>\n",
       "      <td>0.499900</td>\n",
       "      <td>2.000000</td>\n",
       "      <td>0.851064</td>\n",
       "      <td>0.500000</td>\n",
       "      <td>3.000000</td>\n",
       "      <td>0.950000</td>\n",
       "      <td>32.550000</td>\n",
       "      <td>-124.350000</td>\n",
       "      <td>0.149990</td>\n",
       "    </tr>\n",
       "    <tr>\n",
       "      <th>25%</th>\n",
       "      <td>9284.00000</td>\n",
       "      <td>2.602300</td>\n",
       "      <td>17.000000</td>\n",
       "      <td>4.357522</td>\n",
       "      <td>1.020305</td>\n",
       "      <td>952.000000</td>\n",
       "      <td>2.394495</td>\n",
       "      <td>33.930000</td>\n",
       "      <td>-121.800000</td>\n",
       "      <td>1.208000</td>\n",
       "    </tr>\n",
       "    <tr>\n",
       "      <th>50%</th>\n",
       "      <td>18568.00000</td>\n",
       "      <td>3.515600</td>\n",
       "      <td>25.000000</td>\n",
       "      <td>5.068611</td>\n",
       "      <td>1.054545</td>\n",
       "      <td>1383.000000</td>\n",
       "      <td>2.744828</td>\n",
       "      <td>34.190000</td>\n",
       "      <td>-118.450000</td>\n",
       "      <td>1.808000</td>\n",
       "    </tr>\n",
       "    <tr>\n",
       "      <th>75%</th>\n",
       "      <td>27852.00000</td>\n",
       "      <td>4.699700</td>\n",
       "      <td>35.000000</td>\n",
       "      <td>5.858597</td>\n",
       "      <td>1.088825</td>\n",
       "      <td>1856.000000</td>\n",
       "      <td>3.125313</td>\n",
       "      <td>37.700000</td>\n",
       "      <td>-118.020000</td>\n",
       "      <td>2.660000</td>\n",
       "    </tr>\n",
       "    <tr>\n",
       "      <th>max</th>\n",
       "      <td>37136.00000</td>\n",
       "      <td>15.000100</td>\n",
       "      <td>52.000000</td>\n",
       "      <td>28.837607</td>\n",
       "      <td>5.873181</td>\n",
       "      <td>35682.000000</td>\n",
       "      <td>502.990610</td>\n",
       "      <td>41.950000</td>\n",
       "      <td>-114.550000</td>\n",
       "      <td>5.000010</td>\n",
       "    </tr>\n",
       "  </tbody>\n",
       "</table>\n",
       "</div>"
      ],
      "text/plain": [
       "                id        MedInc      HouseAge      AveRooms     AveBedrms  \\\n",
       "count  37137.00000  37137.000000  37137.000000  37137.000000  37137.000000   \n",
       "mean   18568.00000      3.851029     26.057005      5.163124      1.062204   \n",
       "std    10720.67281      1.803167     12.158221      1.206242      0.096490   \n",
       "min        0.00000      0.499900      2.000000      0.851064      0.500000   \n",
       "25%     9284.00000      2.602300     17.000000      4.357522      1.020305   \n",
       "50%    18568.00000      3.515600     25.000000      5.068611      1.054545   \n",
       "75%    27852.00000      4.699700     35.000000      5.858597      1.088825   \n",
       "max    37136.00000     15.000100     52.000000     28.837607      5.873181   \n",
       "\n",
       "         Population      AveOccup      Latitude     Longitude   MedHouseVal  \n",
       "count  37137.000000  37137.000000  37137.000000  37137.000000  37137.000000  \n",
       "mean    1660.778919      2.831243     35.570030   -119.554329      2.079751  \n",
       "std     1302.469608      2.702413      2.083179      1.974028      1.158571  \n",
       "min        3.000000      0.950000     32.550000   -124.350000      0.149990  \n",
       "25%      952.000000      2.394495     33.930000   -121.800000      1.208000  \n",
       "50%     1383.000000      2.744828     34.190000   -118.450000      1.808000  \n",
       "75%     1856.000000      3.125313     37.700000   -118.020000      2.660000  \n",
       "max    35682.000000    502.990610     41.950000   -114.550000      5.000010  "
      ]
     },
     "execution_count": 46,
     "metadata": {},
     "output_type": "execute_result"
    }
   ],
   "source": [
    "train.describe()\n",
    "\n"
   ]
  },
  {
   "cell_type": "code",
   "execution_count": 47,
   "id": "fd79a11f",
   "metadata": {},
   "outputs": [
    {
     "name": "stdout",
     "output_type": "stream",
     "text": [
      "<class 'pandas.core.frame.DataFrame'>\n",
      "RangeIndex: 37137 entries, 0 to 37136\n",
      "Data columns (total 10 columns):\n",
      " #   Column       Non-Null Count  Dtype  \n",
      "---  ------       --------------  -----  \n",
      " 0   id           37137 non-null  int64  \n",
      " 1   MedInc       37137 non-null  float64\n",
      " 2   HouseAge     37137 non-null  float64\n",
      " 3   AveRooms     37137 non-null  float64\n",
      " 4   AveBedrms    37137 non-null  float64\n",
      " 5   Population   37137 non-null  float64\n",
      " 6   AveOccup     37137 non-null  float64\n",
      " 7   Latitude     37137 non-null  float64\n",
      " 8   Longitude    37137 non-null  float64\n",
      " 9   MedHouseVal  37137 non-null  float64\n",
      "dtypes: float64(9), int64(1)\n",
      "memory usage: 2.8 MB\n"
     ]
    }
   ],
   "source": [
    "train.info()"
   ]
  },
  {
   "cell_type": "code",
   "execution_count": 48,
   "id": "c571a59c",
   "metadata": {},
   "outputs": [
    {
     "data": {
      "text/html": [
       "<div>\n",
       "<style scoped>\n",
       "    .dataframe tbody tr th:only-of-type {\n",
       "        vertical-align: middle;\n",
       "    }\n",
       "\n",
       "    .dataframe tbody tr th {\n",
       "        vertical-align: top;\n",
       "    }\n",
       "\n",
       "    .dataframe thead th {\n",
       "        text-align: right;\n",
       "    }\n",
       "</style>\n",
       "<table border=\"1\" class=\"dataframe\">\n",
       "  <thead>\n",
       "    <tr style=\"text-align: right;\">\n",
       "      <th></th>\n",
       "      <th>id</th>\n",
       "      <th>MedInc</th>\n",
       "      <th>HouseAge</th>\n",
       "      <th>AveRooms</th>\n",
       "      <th>AveBedrms</th>\n",
       "      <th>Population</th>\n",
       "      <th>AveOccup</th>\n",
       "      <th>Latitude</th>\n",
       "      <th>Longitude</th>\n",
       "    </tr>\n",
       "  </thead>\n",
       "  <tbody>\n",
       "    <tr>\n",
       "      <th>count</th>\n",
       "      <td>24759.000000</td>\n",
       "      <td>24759.000000</td>\n",
       "      <td>24759.000000</td>\n",
       "      <td>24759.000000</td>\n",
       "      <td>24759.000000</td>\n",
       "      <td>24759.000000</td>\n",
       "      <td>24759.000000</td>\n",
       "      <td>24759.000000</td>\n",
       "      <td>24759.000000</td>\n",
       "    </tr>\n",
       "    <tr>\n",
       "      <th>mean</th>\n",
       "      <td>49516.000000</td>\n",
       "      <td>3.832618</td>\n",
       "      <td>26.041561</td>\n",
       "      <td>5.168789</td>\n",
       "      <td>1.063599</td>\n",
       "      <td>1679.327548</td>\n",
       "      <td>2.830808</td>\n",
       "      <td>35.598007</td>\n",
       "      <td>-119.570208</td>\n",
       "    </tr>\n",
       "    <tr>\n",
       "      <th>std</th>\n",
       "      <td>7147.451994</td>\n",
       "      <td>1.797503</td>\n",
       "      <td>12.177907</td>\n",
       "      <td>1.252874</td>\n",
       "      <td>0.123630</td>\n",
       "      <td>1365.598976</td>\n",
       "      <td>1.615320</td>\n",
       "      <td>2.097787</td>\n",
       "      <td>1.977200</td>\n",
       "    </tr>\n",
       "    <tr>\n",
       "      <th>min</th>\n",
       "      <td>37137.000000</td>\n",
       "      <td>0.499900</td>\n",
       "      <td>2.000000</td>\n",
       "      <td>1.000000</td>\n",
       "      <td>0.560000</td>\n",
       "      <td>3.000000</td>\n",
       "      <td>0.764706</td>\n",
       "      <td>32.550000</td>\n",
       "      <td>-124.230000</td>\n",
       "    </tr>\n",
       "    <tr>\n",
       "      <th>25%</th>\n",
       "      <td>43326.500000</td>\n",
       "      <td>2.590150</td>\n",
       "      <td>17.000000</td>\n",
       "      <td>4.356443</td>\n",
       "      <td>1.020460</td>\n",
       "      <td>955.000000</td>\n",
       "      <td>2.400000</td>\n",
       "      <td>33.930000</td>\n",
       "      <td>-121.800000</td>\n",
       "    </tr>\n",
       "    <tr>\n",
       "      <th>50%</th>\n",
       "      <td>49516.000000</td>\n",
       "      <td>3.504600</td>\n",
       "      <td>25.000000</td>\n",
       "      <td>5.077143</td>\n",
       "      <td>1.054094</td>\n",
       "      <td>1398.000000</td>\n",
       "      <td>2.751592</td>\n",
       "      <td>34.200000</td>\n",
       "      <td>-118.460000</td>\n",
       "    </tr>\n",
       "    <tr>\n",
       "      <th>75%</th>\n",
       "      <td>55705.500000</td>\n",
       "      <td>4.687500</td>\n",
       "      <td>35.000000</td>\n",
       "      <td>5.858646</td>\n",
       "      <td>1.088295</td>\n",
       "      <td>1874.000000</td>\n",
       "      <td>3.129167</td>\n",
       "      <td>37.720000</td>\n",
       "      <td>-118.020000</td>\n",
       "    </tr>\n",
       "    <tr>\n",
       "      <th>max</th>\n",
       "      <td>61895.000000</td>\n",
       "      <td>15.000100</td>\n",
       "      <td>52.000000</td>\n",
       "      <td>56.269231</td>\n",
       "      <td>10.500000</td>\n",
       "      <td>35682.000000</td>\n",
       "      <td>230.172414</td>\n",
       "      <td>41.950000</td>\n",
       "      <td>-114.550000</td>\n",
       "    </tr>\n",
       "  </tbody>\n",
       "</table>\n",
       "</div>"
      ],
      "text/plain": [
       "                 id        MedInc      HouseAge      AveRooms     AveBedrms  \\\n",
       "count  24759.000000  24759.000000  24759.000000  24759.000000  24759.000000   \n",
       "mean   49516.000000      3.832618     26.041561      5.168789      1.063599   \n",
       "std     7147.451994      1.797503     12.177907      1.252874      0.123630   \n",
       "min    37137.000000      0.499900      2.000000      1.000000      0.560000   \n",
       "25%    43326.500000      2.590150     17.000000      4.356443      1.020460   \n",
       "50%    49516.000000      3.504600     25.000000      5.077143      1.054094   \n",
       "75%    55705.500000      4.687500     35.000000      5.858646      1.088295   \n",
       "max    61895.000000     15.000100     52.000000     56.269231     10.500000   \n",
       "\n",
       "         Population      AveOccup      Latitude     Longitude  \n",
       "count  24759.000000  24759.000000  24759.000000  24759.000000  \n",
       "mean    1679.327548      2.830808     35.598007   -119.570208  \n",
       "std     1365.598976      1.615320      2.097787      1.977200  \n",
       "min        3.000000      0.764706     32.550000   -124.230000  \n",
       "25%      955.000000      2.400000     33.930000   -121.800000  \n",
       "50%     1398.000000      2.751592     34.200000   -118.460000  \n",
       "75%     1874.000000      3.129167     37.720000   -118.020000  \n",
       "max    35682.000000    230.172414     41.950000   -114.550000  "
      ]
     },
     "execution_count": 48,
     "metadata": {},
     "output_type": "execute_result"
    }
   ],
   "source": [
    "test.describe()"
   ]
  },
  {
   "cell_type": "code",
   "execution_count": 49,
   "id": "2fd5b3e1",
   "metadata": {},
   "outputs": [
    {
     "name": "stdout",
     "output_type": "stream",
     "text": [
      "<class 'pandas.core.frame.DataFrame'>\n",
      "RangeIndex: 24759 entries, 0 to 24758\n",
      "Data columns (total 9 columns):\n",
      " #   Column      Non-Null Count  Dtype  \n",
      "---  ------      --------------  -----  \n",
      " 0   id          24759 non-null  int64  \n",
      " 1   MedInc      24759 non-null  float64\n",
      " 2   HouseAge    24759 non-null  float64\n",
      " 3   AveRooms    24759 non-null  float64\n",
      " 4   AveBedrms   24759 non-null  float64\n",
      " 5   Population  24759 non-null  float64\n",
      " 6   AveOccup    24759 non-null  float64\n",
      " 7   Latitude    24759 non-null  float64\n",
      " 8   Longitude   24759 non-null  float64\n",
      "dtypes: float64(8), int64(1)\n",
      "memory usage: 1.7 MB\n"
     ]
    }
   ],
   "source": [
    "test.info()\n"
   ]
  },
  {
   "cell_type": "markdown",
   "id": "0c7e29d1",
   "metadata": {},
   "source": [
    "# # Missing Values and Duplicates"
   ]
  },
  {
   "cell_type": "code",
   "execution_count": 53,
   "id": "a08f3717",
   "metadata": {},
   "outputs": [
    {
     "data": {
      "text/plain": [
       "id             0\n",
       "MedInc         0\n",
       "HouseAge       0\n",
       "AveRooms       0\n",
       "AveBedrms      0\n",
       "Population     0\n",
       "AveOccup       0\n",
       "Latitude       0\n",
       "Longitude      0\n",
       "MedHouseVal    0\n",
       "dtype: int64"
      ]
     },
     "execution_count": 53,
     "metadata": {},
     "output_type": "execute_result"
    }
   ],
   "source": [
    "train.isna().sum()"
   ]
  },
  {
   "cell_type": "code",
   "execution_count": 54,
   "id": "525b3714",
   "metadata": {},
   "outputs": [
    {
     "data": {
      "text/plain": [
       "id            0\n",
       "MedInc        0\n",
       "HouseAge      0\n",
       "AveRooms      0\n",
       "AveBedrms     0\n",
       "Population    0\n",
       "AveOccup      0\n",
       "Latitude      0\n",
       "Longitude     0\n",
       "dtype: int64"
      ]
     },
     "execution_count": 54,
     "metadata": {},
     "output_type": "execute_result"
    }
   ],
   "source": [
    "test.isna().sum()"
   ]
  },
  {
   "cell_type": "code",
   "execution_count": 55,
   "id": "7dfb1008",
   "metadata": {},
   "outputs": [
    {
     "data": {
      "text/plain": [
       "False"
      ]
     },
     "execution_count": 55,
     "metadata": {},
     "output_type": "execute_result"
    }
   ],
   "source": [
    "train.duplicated().any()"
   ]
  },
  {
   "cell_type": "code",
   "execution_count": 56,
   "id": "828ad28f",
   "metadata": {},
   "outputs": [
    {
     "data": {
      "text/plain": [
       "False"
      ]
     },
     "execution_count": 56,
     "metadata": {},
     "output_type": "execute_result"
    }
   ],
   "source": [
    "test.duplicated().any()"
   ]
  },
  {
   "cell_type": "markdown",
   "id": "49452cec",
   "metadata": {},
   "source": [
    "Checking and Handling Skewness"
   ]
  },
  {
   "cell_type": "code",
   "execution_count": 57,
   "id": "1ef07721",
   "metadata": {},
   "outputs": [
    {
     "data": {
      "text/plain": [
       "id               0.000000\n",
       "MedInc           1.567604\n",
       "HouseAge         0.413457\n",
       "AveRooms         1.301106\n",
       "AveBedrms       12.965449\n",
       "Population       5.796582\n",
       "AveOccup       170.890130\n",
       "Latitude         0.439251\n",
       "Longitude       -0.313242\n",
       "MedHouseVal      0.970856\n",
       "dtype: float64"
      ]
     },
     "execution_count": 57,
     "metadata": {},
     "output_type": "execute_result"
    }
   ],
   "source": [
    "train.skew()"
   ]
  },
  {
   "cell_type": "code",
   "execution_count": 58,
   "id": "ceaa90ea",
   "metadata": {},
   "outputs": [
    {
     "name": "stdout",
     "output_type": "stream",
     "text": [
      "id\n",
      "Skewness: 0.0\n"
     ]
    },
    {
     "data": {
      "image/png": "[encoded data removed]",
      "text/plain": [
       "<Figure size 216x216 with 1 Axes>"
      ]
     },
     "metadata": {},
     "output_type": "display_data"
    },
    {
     "name": "stdout",
     "output_type": "stream",
     "text": [
      "MedInc\n",
      "Skewness: 1.5675406354569408\n"
     ]
    },
    {
     "data": {
      "image/png": "[encoded data removed]",
      "text/plain": [
       "<Figure size 216x216 with 1 Axes>"
      ]
     },
     "metadata": {},
     "output_type": "display_data"
    },
    {
     "name": "stdout",
     "output_type": "stream",
     "text": [
      "HouseAge\n",
      "Skewness: 0.4134399594954355\n"
     ]
    },
    {
     "data": {
      "image/png": "[encoded data removed]",
      "text/plain": [
       "<Figure size 216x216 with 1 Axes>"
      ]
     },
     "metadata": {},
     "output_type": "display_data"
    },
    {
     "name": "stdout",
     "output_type": "stream",
     "text": [
      "AveRooms\n",
      "Skewness: 1.3010537441279886\n"
     ]
    },
    {
     "data": {
      "image/png": "[encoded data removed]",
      "text/plain": [
       "<Figure size 216x216 with 1 Axes>"
      ]
     },
     "metadata": {},
     "output_type": "display_data"
    },
    {
     "name": "stdout",
     "output_type": "stream",
     "text": [
      "AveBedrms\n",
      "Skewness: 12.9649251675508\n"
     ]
    },
    {
     "data": {
      "image/png": "[encoded data removed]",
      "text/plain": [
       "<Figure size 216x216 with 1 Axes>"
      ]
     },
     "metadata": {},
     "output_type": "display_data"
    },
    {
     "name": "stdout",
     "output_type": "stream",
     "text": [
      "Population\n",
      "Skewness: 5.796347389167863\n"
     ]
    },
    {
     "data": {
      "image/png": "[encoded data removed]",
      "text/plain": [
       "<Figure size 216x216 with 1 Axes>"
      ]
     },
     "metadata": {},
     "output_type": "display_data"
    },
    {
     "name": "stdout",
     "output_type": "stream",
     "text": [
      "AveOccup\n",
      "Skewness: 170.88322702875791\n"
     ]
    },
    {
     "data": {
      "image/png": "[encoded data removed]",
      "text/plain": [
       "<Figure size 216x216 with 1 Axes>"
      ]
     },
     "metadata": {},
     "output_type": "display_data"
    },
    {
     "name": "stdout",
     "output_type": "stream",
     "text": [
      "Latitude\n",
      "Skewness: 0.4392332010578784\n"
     ]
    },
    {
     "data": {
      "image/png": "[encoded data removed]",
      "text/plain": [
       "<Figure size 216x216 with 1 Axes>"
      ]
     },
     "metadata": {},
     "output_type": "display_data"
    },
    {
     "name": "stdout",
     "output_type": "stream",
     "text": [
      "Longitude\n",
      "Skewness: -0.31322957647378413\n"
     ]
    },
    {
     "data": {
      "image/png": "[encoded data removed]",
      "text/plain": [
       "<Figure size 216x216 with 1 Axes>"
      ]
     },
     "metadata": {},
     "output_type": "display_data"
    },
    {
     "name": "stdout",
     "output_type": "stream",
     "text": [
      "MedHouseVal\n",
      "Skewness: 0.9708169069984772\n"
     ]
    },
    {
     "data": {
      "image/png": "[encoded data removed]",
      "text/plain": [
       "<Figure size 216x216 with 1 Axes>"
      ]
     },
     "metadata": {},
     "output_type": "display_data"
    }
   ],
   "source": [
    "from scipy.stats import skew\n",
    "for column in train:\n",
    "    print(column)\n",
    "    print(f\"Skewness: {skew(train[column])}\")\n",
    "    plt.figure(figsize=(3,3))\n",
    "    plt.style.use('ggplot')\n",
    "    sns.distplot(train[column])\n",
    "    plt.grid(False)\n",
    "    plt.show()"
   ]
  },
  {
   "cell_type": "code",
   "execution_count": 59,
   "id": "2c0a1431",
   "metadata": {},
   "outputs": [
    {
     "name": "stdout",
     "output_type": "stream",
     "text": [
      "-0.001763\n"
     ]
    }
   ],
   "source": [
    "# Interquantile Range\n",
    "quantile1=train[\"AveBedrms\"].quantile(0.25)\n",
    "quantile2=train[\"AveBedrms\"].quantile(0.75)\n",
    "\n",
    "train[\"AveBedrms\"] = np.where(train[\"AveBedrms\"]  <  quantile1,quantile1,train[\"AveBedrms\"])\n",
    "train[\"AveBedrms\"] = np.where(train[\"AveBedrms\"]  >  quantile2,quantile2,train[\"AveBedrms\"])\n",
    "\n",
    "a = round(train['AveBedrms'].skew(),6)\n",
    "print(a)"
   ]
  },
  {
   "cell_type": "code",
   "execution_count": 60,
   "id": "c905e0a3",
   "metadata": {},
   "outputs": [
    {
     "name": "stdout",
     "output_type": "stream",
     "text": [
      "0.001988\n"
     ]
    }
   ],
   "source": [
    "# Interquantile Range\n",
    "quantile1=test[\"AveBedrms\"].quantile(0.25)\n",
    "quantile2=test[\"AveBedrms\"].quantile(0.75)\n",
    "\n",
    "test[\"AveBedrms\"] = np.where(test[\"AveBedrms\"]  <  quantile1,quantile1,test[\"AveBedrms\"])\n",
    "test[\"AveBedrms\"] = np.where(test[\"AveBedrms\"]  >  quantile2,quantile2,test[\"AveBedrms\"])\n",
    "test_a = round(test['AveBedrms'].skew(),6)\n",
    "print(test_a)"
   ]
  },
  {
   "cell_type": "code",
   "execution_count": 61,
   "id": "0035dfeb",
   "metadata": {},
   "outputs": [
    {
     "name": "stdout",
     "output_type": "stream",
     "text": [
      "0.14029\n"
     ]
    }
   ],
   "source": [
    "# Interquantile Range\n",
    "quantile1=train[\"MedInc\"].quantile(0.25)\n",
    "quantile2=train[\"MedInc\"].quantile(0.75)\n",
    "\n",
    "train[\"MedInc\"]=np.where(train[\"MedInc\"]  <  quantile1,quantile1,train[\"MedInc\"])\n",
    "train[\"MedInc\"]=np.where(train[\"MedInc\"]  >  quantile2,quantile2,train[\"MedInc\"])\n",
    "\n",
    "b = round(train['MedInc'].skew(),6)\n",
    "print(b)"
   ]
  },
  {
   "cell_type": "code",
   "execution_count": 62,
   "id": "e71ea3d4",
   "metadata": {},
   "outputs": [
    {
     "name": "stdout",
     "output_type": "stream",
     "text": [
      "0.148216\n"
     ]
    }
   ],
   "source": [
    "# Interquantile Range\n",
    "quantile1=test[\"MedInc\"].quantile(0.25)\n",
    "quantile2=test[\"MedInc\"].quantile(0.75)\n",
    "\n",
    "test[\"MedInc\"]=np.where(test[\"MedInc\"]  <  quantile1,quantile1,test[\"MedInc\"])\n",
    "test[\"MedInc\"]=np.where(test[\"MedInc\"]  >  quantile2,quantile2,test[\"MedInc\"])\n",
    "\n",
    "test_b = round(test['MedInc'].skew(),6)\n",
    "print(test_b)"
   ]
  },
  {
   "cell_type": "code",
   "execution_count": 63,
   "id": "386b50fc",
   "metadata": {},
   "outputs": [
    {
     "name": "stdout",
     "output_type": "stream",
     "text": [
      "0.028359\n"
     ]
    }
   ],
   "source": [
    "# Interquantile Range\n",
    "quantile1=train[\"AveOccup\"].quantile(0.25)\n",
    "quantile2=train[\"AveOccup\"].quantile(0.75)\n",
    "\n",
    "train[\"AveOccup\"]=np.where(train[\"AveOccup\"]  <  quantile1,quantile1,train[\"AveOccup\"])\n",
    "train[\"AveOccup\"]=np.where(train[\"AveOccup\"]  >  quantile2,quantile2,train[\"AveOccup\"])\n",
    "\n",
    "c = round(train['AveOccup'].skew(),6)\n",
    "print(c)"
   ]
  },
  {
   "cell_type": "code",
   "execution_count": 64,
   "id": "49930371",
   "metadata": {},
   "outputs": [
    {
     "name": "stdout",
     "output_type": "stream",
     "text": [
      "0.023744\n"
     ]
    }
   ],
   "source": [
    "# Interquantile Range\n",
    "quantile1=test[\"AveOccup\"].quantile(0.25)\n",
    "quantile2=test[\"AveOccup\"].quantile(0.75)\n",
    "\n",
    "test[\"AveOccup\"]=np.where(test[\"AveOccup\"]  <  quantile1,quantile1,test[\"AveOccup\"])\n",
    "test[\"AveOccup\"]=np.where(test[\"AveOccup\"]  >  quantile2,quantile2,test[\"AveOccup\"])\n",
    "\n",
    "test_c = round(test['AveOccup'].skew(),6)\n",
    "print(test_c)"
   ]
  },
  {
   "cell_type": "code",
   "execution_count": 65,
   "id": "be0a30c3",
   "metadata": {
    "scrolled": true
   },
   "outputs": [
    {
     "name": "stdout",
     "output_type": "stream",
     "text": [
      "0.030626\n"
     ]
    }
   ],
   "source": [
    "# Interquantile Range\n",
    "quantile1=train[\"AveRooms\"].quantile(0.25)\n",
    "quantile2=train[\"AveRooms\"].quantile(0.75)\n",
    "\n",
    "train[\"AveRooms\"]=np.where(train[\"AveRooms\"]  <  quantile1,quantile1,train[\"AveRooms\"])\n",
    "train[\"AveRooms\"]=np.where(train[\"AveRooms\"]  >  quantile2,quantile2,train[\"AveRooms\"])\n",
    "\n",
    "test_d = round(train['AveRooms'].skew(),6)\n",
    "print(test_d)"
   ]
  },
  {
   "cell_type": "code",
   "execution_count": 66,
   "id": "fa6b1ece",
   "metadata": {},
   "outputs": [
    {
     "name": "stdout",
     "output_type": "stream",
     "text": [
      "0.018701\n"
     ]
    }
   ],
   "source": [
    "# Interquantile Range\n",
    "quantile1=test[\"AveRooms\"].quantile(0.25)\n",
    "quantile2=test[\"AveRooms\"].quantile(0.75)\n",
    "\n",
    "test[\"AveRooms\"]=np.where(test[\"AveRooms\"]  <  quantile1,quantile1,test[\"AveRooms\"])\n",
    "test[\"AveRooms\"]=np.where(test[\"AveRooms\"]  >  quantile2,quantile2,test[\"AveRooms\"])\n",
    "\n",
    "d = round(test['AveRooms'].skew(),6)\n",
    "print(d)"
   ]
  },
  {
   "cell_type": "code",
   "execution_count": 67,
   "id": "7a242aa1",
   "metadata": {},
   "outputs": [
    {
     "name": "stdout",
     "output_type": "stream",
     "text": [
      "0.047429\n"
     ]
    }
   ],
   "source": [
    "# Interquantile Range\n",
    "quantile1=train[\"Population\"].quantile(0.25)\n",
    "quantile2=train[\"Population\"].quantile(0.75)\n",
    "\n",
    "train[\"Population\"]=np.where(train[\"Population\"]  <  quantile1,quantile1,train[\"Population\"])\n",
    "train[\"Population\"]=np.where(train[\"Population\"]  >  quantile2,quantile2,train[\"Population\"])\n",
    "\n",
    "e = round(train['Population'].skew(),6)\n",
    "print(e)"
   ]
  },
  {
   "cell_type": "code",
   "execution_count": 68,
   "id": "af377d11",
   "metadata": {},
   "outputs": [
    {
     "name": "stdout",
     "output_type": "stream",
     "text": [
      "0.04709\n"
     ]
    }
   ],
   "source": [
    "# Interquantile Range\n",
    "quantile1=test[\"Population\"].quantile(0.25)\n",
    "quantile2=test[\"Population\"].quantile(0.75)\n",
    "\n",
    "test[\"Population\"]=np.where(test[\"Population\"]  <  quantile1,quantile1,test[\"Population\"])\n",
    "test[\"Population\"]=np.where(test[\"Population\"]  >  quantile2,quantile2,test[\"Population\"])\n",
    "\n",
    "test_e = round(test['Population'].skew(),6)\n",
    "print(test_e)"
   ]
  },
  {
   "cell_type": "code",
   "execution_count": 69,
   "id": "4c363782",
   "metadata": {
    "scrolled": true
   },
   "outputs": [
    {
     "data": {
      "text/plain": [
       "id             0.000000\n",
       "MedInc         0.140290\n",
       "HouseAge       0.413457\n",
       "AveRooms       0.030626\n",
       "AveBedrms     -0.001763\n",
       "Population     0.047429\n",
       "AveOccup       0.028359\n",
       "Latitude       0.439251\n",
       "Longitude     -0.313242\n",
       "MedHouseVal    0.970856\n",
       "dtype: float64"
      ]
     },
     "execution_count": 69,
     "metadata": {},
     "output_type": "execute_result"
    }
   ],
   "source": [
    "train.skew()"
   ]
  },
  {
   "cell_type": "code",
   "execution_count": 70,
   "id": "e5837873",
   "metadata": {
    "scrolled": true
   },
   "outputs": [
    {
     "data": {
      "text/plain": [
       "id            0.000000\n",
       "MedInc        0.148216\n",
       "HouseAge      0.403884\n",
       "AveRooms      0.018701\n",
       "AveBedrms     0.001988\n",
       "Population    0.047090\n",
       "AveOccup      0.023744\n",
       "Latitude      0.426951\n",
       "Longitude    -0.292687\n",
       "dtype: float64"
      ]
     },
     "execution_count": 70,
     "metadata": {},
     "output_type": "execute_result"
    }
   ],
   "source": [
    "test.skew()"
   ]
  },
  {
   "cell_type": "code",
   "execution_count": 71,
   "id": "59e3fca6",
   "metadata": {},
   "outputs": [
    {
     "data": {
      "image/png": "[encoded data removed]",
      "text/plain": [
       "<Figure size 432x432 with 1 Axes>"
      ]
     },
     "metadata": {},
     "output_type": "display_data"
    }
   ],
   "source": [
    "#Transformation of Target\n",
    "\n",
    "fig,ax = plt.subplots(figsize=(6,6))\n",
    "sns.histplot(np.log(train['MedHouseVal']))\n",
    "plt.show()\n"
   ]
  },
  {
   "cell_type": "code",
   "execution_count": 72,
   "id": "b692a124",
   "metadata": {
    "scrolled": true
   },
   "outputs": [
    {
     "data": {
      "image/png": "[encoded data removed]",
      "text/plain": [
       "<Figure size 720x720 with 2 Axes>"
      ]
     },
     "metadata": {},
     "output_type": "display_data"
    }
   ],
   "source": [
    "correlation = train.corr()\n",
    "plt.figure(figsize=(10,10))\n",
    "sns.heatmap(correlation, annot=True, cmap='crest',linewidths=0.2)\n",
    "plt.show()"
   ]
  },
  {
   "cell_type": "code",
   "execution_count": 73,
   "id": "3f923d09",
   "metadata": {},
   "outputs": [
    {
     "data": {
      "image/png": "[encoded data removed]",
      "text/plain": [
       "<Figure size 720x720 with 2 Axes>"
      ]
     },
     "metadata": {},
     "output_type": "display_data"
    }
   ],
   "source": [
    "correlation = test.corr()\n",
    "plt.figure(figsize=(10,10))\n",
    "sns.heatmap(correlation, annot=True, cmap='crest',linewidths=0.2)\n",
    "plt.show()"
   ]
  },
  {
   "cell_type": "code",
   "execution_count": 74,
   "id": "07d4f4f0",
   "metadata": {},
   "outputs": [
    {
     "data": {
      "text/html": [
       "<div>\n",
       "<style scoped>\n",
       "    .dataframe tbody tr th:only-of-type {\n",
       "        vertical-align: middle;\n",
       "    }\n",
       "\n",
       "    .dataframe tbody tr th {\n",
       "        vertical-align: top;\n",
       "    }\n",
       "\n",
       "    .dataframe thead th {\n",
       "        text-align: right;\n",
       "    }\n",
       "</style>\n",
       "<table border=\"1\" class=\"dataframe\">\n",
       "  <thead>\n",
       "    <tr style=\"text-align: right;\">\n",
       "      <th></th>\n",
       "      <th>MedInc</th>\n",
       "      <th>HouseAge</th>\n",
       "      <th>AveRooms</th>\n",
       "      <th>AveBedrms</th>\n",
       "      <th>Population</th>\n",
       "      <th>AveOccup</th>\n",
       "      <th>Latitude</th>\n",
       "      <th>Longitude</th>\n",
       "    </tr>\n",
       "  </thead>\n",
       "  <tbody>\n",
       "    <tr>\n",
       "      <th>0</th>\n",
       "      <td>2.6023</td>\n",
       "      <td>15.0</td>\n",
       "      <td>4.357522</td>\n",
       "      <td>1.088825</td>\n",
       "      <td>1280.0</td>\n",
       "      <td>2.486989</td>\n",
       "      <td>34.60</td>\n",
       "      <td>-120.12</td>\n",
       "    </tr>\n",
       "    <tr>\n",
       "      <th>1</th>\n",
       "      <td>3.7188</td>\n",
       "      <td>17.0</td>\n",
       "      <td>5.858597</td>\n",
       "      <td>1.054217</td>\n",
       "      <td>1504.0</td>\n",
       "      <td>3.125313</td>\n",
       "      <td>38.69</td>\n",
       "      <td>-121.22</td>\n",
       "    </tr>\n",
       "  </tbody>\n",
       "</table>\n",
       "</div>"
      ],
      "text/plain": [
       "   MedInc  HouseAge  AveRooms  AveBedrms  Population  AveOccup  Latitude  \\\n",
       "0  2.6023      15.0  4.357522   1.088825      1280.0  2.486989     34.60   \n",
       "1  3.7188      17.0  5.858597   1.054217      1504.0  3.125313     38.69   \n",
       "\n",
       "   Longitude  \n",
       "0    -120.12  \n",
       "1    -121.22  "
      ]
     },
     "execution_count": 74,
     "metadata": {},
     "output_type": "execute_result"
    }
   ],
   "source": [
    "#Splitting data for modelling\n",
    "\n",
    "X_train = train.iloc[:,1:9]\n",
    "X_train.head(2)"
   ]
  },
  {
   "cell_type": "code",
   "execution_count": 75,
   "id": "7a6e519c",
   "metadata": {},
   "outputs": [
    {
     "data": {
      "text/plain": [
       "0    0.980\n",
       "1    0.946\n",
       "Name: MedHouseVal, dtype: float64"
      ]
     },
     "execution_count": 75,
     "metadata": {},
     "output_type": "execute_result"
    }
   ],
   "source": [
    "y_train = train.MedHouseVal\n",
    "y_train.head(2)"
   ]
  },
  {
   "cell_type": "code",
   "execution_count": 80,
   "id": "bd39d6f6",
   "metadata": {
    "scrolled": false
   },
   "outputs": [
    {
     "data": {
      "text/html": [
       "<div>\n",
       "<style scoped>\n",
       "    .dataframe tbody tr th:only-of-type {\n",
       "        vertical-align: middle;\n",
       "    }\n",
       "\n",
       "    .dataframe tbody tr th {\n",
       "        vertical-align: top;\n",
       "    }\n",
       "\n",
       "    .dataframe thead th {\n",
       "        text-align: right;\n",
       "    }\n",
       "</style>\n",
       "<table border=\"1\" class=\"dataframe\">\n",
       "  <thead>\n",
       "    <tr style=\"text-align: right;\">\n",
       "      <th></th>\n",
       "      <th>MedInc</th>\n",
       "      <th>HouseAge</th>\n",
       "      <th>AveRooms</th>\n",
       "      <th>AveBedrms</th>\n",
       "      <th>Population</th>\n",
       "      <th>AveOccup</th>\n",
       "      <th>Latitude</th>\n",
       "      <th>Longitude</th>\n",
       "    </tr>\n",
       "  </thead>\n",
       "  <tbody>\n",
       "    <tr>\n",
       "      <th>0</th>\n",
       "      <td>2.59015</td>\n",
       "      <td>35.0</td>\n",
       "      <td>4.966368</td>\n",
       "      <td>1.088295</td>\n",
       "      <td>1318.0</td>\n",
       "      <td>2.844411</td>\n",
       "      <td>39.75</td>\n",
       "      <td>-121.85</td>\n",
       "    </tr>\n",
       "    <tr>\n",
       "      <th>1</th>\n",
       "      <td>2.59015</td>\n",
       "      <td>22.0</td>\n",
       "      <td>4.356443</td>\n",
       "      <td>1.088295</td>\n",
       "      <td>1874.0</td>\n",
       "      <td>3.129167</td>\n",
       "      <td>33.95</td>\n",
       "      <td>-118.29</td>\n",
       "    </tr>\n",
       "  </tbody>\n",
       "</table>\n",
       "</div>"
      ],
      "text/plain": [
       "    MedInc  HouseAge  AveRooms  AveBedrms  Population  AveOccup  Latitude  \\\n",
       "0  2.59015      35.0  4.966368   1.088295      1318.0  2.844411     39.75   \n",
       "1  2.59015      22.0  4.356443   1.088295      1874.0  3.129167     33.95   \n",
       "\n",
       "   Longitude  \n",
       "0    -121.85  \n",
       "1    -118.29  "
      ]
     },
     "execution_count": 80,
     "metadata": {},
     "output_type": "execute_result"
    }
   ],
   "source": [
    "X_test = test.iloc[:,1:]\n",
    "X_test.head(2)"
   ]
  },
  {
   "cell_type": "markdown",
   "id": "87b5586f",
   "metadata": {},
   "source": [
    "# Modelling\n",
    "\n",
    "\n",
    "\n",
    "\n",
    "\n",
    "A voting regressor is an ensemble meta-estimator\n",
    "that fits several base regressors,each on the whole dataset.\n",
    ".Then it averages the individual predictions to form a final prediction."
   ]
  },
  {
   "cell_type": "code",
   "execution_count": 81,
   "id": "98911273",
   "metadata": {},
   "outputs": [
    {
     "data": {
      "text/plain": [
       "array([0.6269765 , 1.32400794, 2.78958149, ..., 1.15544003, 2.54655951,\n",
       "       3.12002046])"
      ]
     },
     "execution_count": 81,
     "metadata": {},
     "output_type": "execute_result"
    }
   ],
   "source": [
    "from sklearn.ensemble import GradientBoostingRegressor\n",
    "reg1 = GradientBoostingRegressor(random_state=1)\n",
    "\n",
    "from sklearn.ensemble import RandomForestRegressor\n",
    "reg2 = RandomForestRegressor(random_state=1)\n",
    "\n",
    "from sklearn.linear_model import LinearRegression\n",
    "reg3 = LinearRegression()\n",
    "\n",
    "from sklearn.ensemble import VotingRegressor\n",
    "regressor = VotingRegressor(estimators=[('gb', reg1), ('rf', reg2), ('lir', reg3)])\n",
    "\n",
    "regressor.fit(X_train, y_train)\n",
    "prediction = regressor.predict(X_test)\n",
    "prediction"
   ]
  },
  {
   "cell_type": "code",
   "execution_count": 84,
   "id": "a4df1308",
   "metadata": {},
   "outputs": [
    {
     "data": {
      "text/html": [
       "<div>\n",
       "<style scoped>\n",
       "    .dataframe tbody tr th:only-of-type {\n",
       "        vertical-align: middle;\n",
       "    }\n",
       "\n",
       "    .dataframe tbody tr th {\n",
       "        vertical-align: top;\n",
       "    }\n",
       "\n",
       "    .dataframe thead th {\n",
       "        text-align: right;\n",
       "    }\n",
       "</style>\n",
       "<table border=\"1\" class=\"dataframe\">\n",
       "  <thead>\n",
       "    <tr style=\"text-align: right;\">\n",
       "      <th></th>\n",
       "      <th>id</th>\n",
       "      <th>MedHouseVal</th>\n",
       "    </tr>\n",
       "  </thead>\n",
       "  <tbody>\n",
       "    <tr>\n",
       "      <th>0</th>\n",
       "      <td>37137</td>\n",
       "      <td>0.626977</td>\n",
       "    </tr>\n",
       "    <tr>\n",
       "      <th>1</th>\n",
       "      <td>37138</td>\n",
       "      <td>1.324008</td>\n",
       "    </tr>\n",
       "    <tr>\n",
       "      <th>2</th>\n",
       "      <td>37139</td>\n",
       "      <td>2.789581</td>\n",
       "    </tr>\n",
       "    <tr>\n",
       "      <th>3</th>\n",
       "      <td>37140</td>\n",
       "      <td>3.188394</td>\n",
       "    </tr>\n",
       "    <tr>\n",
       "      <th>4</th>\n",
       "      <td>37141</td>\n",
       "      <td>2.247585</td>\n",
       "    </tr>\n",
       "  </tbody>\n",
       "</table>\n",
       "</div>"
      ],
      "text/plain": [
       "      id  MedHouseVal\n",
       "0  37137     0.626977\n",
       "1  37138     1.324008\n",
       "2  37139     2.789581\n",
       "3  37140     3.188394\n",
       "4  37141     2.247585"
      ]
     },
     "execution_count": 84,
     "metadata": {},
     "output_type": "execute_result"
    }
   ],
   "source": [
    "submission = pd.DataFrame({'id': test.id, 'MedHouseVal': prediction})\n",
    "submission.head()"
   ]
  },
  {
   "cell_type": "code",
   "execution_count": 85,
   "id": "f880c931",
   "metadata": {},
   "outputs": [],
   "source": [
    "submission.to_csv('Y_submission.csv', index=False)"
   ]
  },
  {
   "cell_type": "code",
   "execution_count": null,
   "id": "60793b99",
   "metadata": {},
   "outputs": [],
   "source": [
    "#The End"
   ]
  }
 ],
 "metadata": {
  "kernelspec": {
   "display_name": "Python 3 (ipykernel)",
   "language": "python",
   "name": "python3"
  },
  "language_info": {
   "codemirror_mode": {
    "name": "ipython",
    "version": 3
   },
   "file_extension": ".py",
   "mimetype": "text/x-python",
   "name": "python",
   "nbconvert_exporter": "python",
   "pygments_lexer": "ipython3",
   "version": "3.9.7"
  }
 },
 "nbformat": 4,
 "nbformat_minor": 5
}
